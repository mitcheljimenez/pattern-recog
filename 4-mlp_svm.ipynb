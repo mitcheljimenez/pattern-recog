{
  "nbformat": 4,
  "nbformat_minor": 0,
  "metadata": {
    "colab": {
      "provenance": [],
      "include_colab_link": true
    },
    "kernelspec": {
      "name": "python3",
      "display_name": "Python 3"
    },
    "language_info": {
      "name": "python"
    }
  },
  "cells": [
    {
      "cell_type": "markdown",
      "metadata": {
        "id": "view-in-github",
        "colab_type": "text"
      },
      "source": [
        "<a href=\"https://colab.research.google.com/github/mitcheljimenez/pattern-recog/blob/main/4-mlp_svm.ipynb\" target=\"_parent\"><img src=\"https://colab.research.google.com/assets/colab-badge.svg\" alt=\"Open In Colab\"/></a>"
      ]
    },
    {
      "cell_type": "markdown",
      "metadata": {
        "id": "5DheF6MWziKm"
      },
      "source": [
        "# Clasificación: Multilayer Perceptron y Support Vector Machines"
      ]
    },
    {
      "cell_type": "markdown",
      "metadata": {
        "id": "KovodXufzqrn"
      },
      "source": [
        "En aprendizaje de máquinas, la clasificación es el problema de identificar a qué clase (de un grupo finito de clases) una observación nueva pertenece, tomando como base un entrenamiento previo sobre un grupo de observaciones donde sí se conocían sus clases correspondientes."
      ]
    },
    {
      "cell_type": "code",
      "metadata": {
        "id": "4zTB5xHTzn0v"
      },
      "source": [
        "import pandas as pd\n",
        "import sklearn.linear_model # Algoritmos lineales como el Perceptron\n",
        "import sklearn.neural_network # Perceptón multicapa\n",
        "import sklearn.model_selection # Funciones para preprocesar nuestros datos\n",
        "import sklearn.svm\n",
        "import sklearn.metrics # Métricas\n",
        "import matplotlib.pyplot as plt\n",
        "import seaborn as sns\n",
        "import numpy as np"
      ],
      "execution_count": 1,
      "outputs": []
    },
    {
      "cell_type": "markdown",
      "metadata": {
        "id": "SXjbbYcr37Of"
      },
      "source": [
        "## Perceptrón"
      ]
    },
    {
      "cell_type": "code",
      "source": [
        "simplest = pd.read_csv(\"https://raw.githubusercontent.com/fvillena/mlb/master/data/simplest.csv\")\n",
        "plt.scatter(\n",
        "    simplest.x1,\n",
        "    simplest.x2,\n",
        "    c = simplest.y # Pintamos nuestros puntos según la etiqueta que tengan\n",
        ")"
      ],
      "metadata": {
        "colab": {
          "base_uri": "https://localhost:8080/",
          "height": 448
        },
        "id": "P4lp19idd1vX",
        "outputId": "22d4a13b-6f0a-4575-e4b3-f9374654f4f4"
      },
      "execution_count": 2,
      "outputs": [
        {
          "output_type": "execute_result",
          "data": {
            "text/plain": [
              "<matplotlib.collections.PathCollection at 0x7f83f6705de0>"
            ]
          },
          "metadata": {},
          "execution_count": 2
        },
        {
          "output_type": "display_data",
          "data": {
            "text/plain": [
              "<Figure size 640x480 with 1 Axes>"
            ],
            "image/png": "[encoded data removed]"
          },
          "metadata": {}
        }
      ]
    },
    {
      "cell_type": "markdown",
      "metadata": {
        "id": "V8dKAbjA30EI"
      },
      "source": [
        "## Preprocesamiento\n",
        "\n",
        "Para poder evaluar los desempeños de nuestros modelos de la manera más válida posible, se suele dividir nuestro conjunto de datos un en subconjunto de entrenamiento y uno de prueba. El subconjunto de entrenamiento es el único que utilizaremos para entrenar nuestro modelo. El subconjunto de prueba es independiente al de entrenamiento y con este evaluamos las métricas de desempeño de nuestro modelo.\n",
        "\n",
        "Para fácilemente realizar esta separación utilizamos la función `sklearn.model_selection.train_test_split()`"
      ]
    },
    {
      "cell_type": "code",
      "source": [
        "simplest_features = simplest.iloc[:,:-1] # Seleccionamos sólo las características de nuestro conjunto de datos\n",
        "simplest_label = simplest.y\n",
        "simplest_features_train, simplest_features_test, simplest_label_train, simplest_label_test = sklearn.model_selection.train_test_split(\n",
        "    simplest_features,\n",
        "    simplest_label,\n",
        "    test_size=0.33, # Tamaño del conjunto de prueba\n",
        "    random_state=11 # Bloqueamos el generador de números al azar con una semilla\n",
        ")"
      ],
      "metadata": {
        "id": "HdCa-26PgN13"
      },
      "execution_count": 3,
      "outputs": []
    },
    {
      "cell_type": "markdown",
      "metadata": {
        "id": "aWnR61sL4EEd"
      },
      "source": [
        "Para evaluar el rendimiento de nuestro clasificador, calcularemos algunas métricas de clasificación sobre el subconjunto de entrenamiento utilizando la función `sklearn.metrics.classification_report()`"
      ]
    },
    {
      "cell_type": "code",
      "source": [
        "# Instanciamos nuestro perceptrón\n",
        "p = sklearn.linear_model.Perceptron()\n",
        "p.fit(\n",
        "    simplest_features_train,\n",
        "    simplest_label_train\n",
        ")\n",
        "print(sklearn.metrics.classification_report(\n",
        "    simplest_label_test, # Etiquetas reales del conjunto de prueba\n",
        "    p.predict(simplest_features_test) # Etiquetas predichas por el modelo\n",
        "))"
      ],
      "metadata": {
        "colab": {
          "base_uri": "https://localhost:8080/"
        },
        "id": "o_QznEYGeCux",
        "outputId": "37608bee-2bea-4c16-ffd4-8b7b7258add1"
      },
      "execution_count": 4,
      "outputs": [
        {
          "output_type": "stream",
          "name": "stdout",
          "text": [
            "              precision    recall  f1-score   support\n",
            "\n",
            "           0       1.00      1.00      1.00        17\n",
            "           1       1.00      1.00      1.00        16\n",
            "\n",
            "    accuracy                           1.00        33\n",
            "   macro avg       1.00      1.00      1.00        33\n",
            "weighted avg       1.00      1.00      1.00        33\n",
            "\n"
          ]
        }
      ]
    },
    {
      "cell_type": "code",
      "source": [
        "slope = -( p.intercept_ / p.coef_[0][1] ) / ( p.intercept_ / p.coef_[0][0] ) # Pendiente asociada al umbral de clasificación\n",
        "intercept = -p.intercept_ / p.coef_[0][1] # Intercepto asociado al umbral de clasificación\n",
        "\n",
        "# Calculemos 2 puntos para trazar una linea asociada al umbral de clasificación\n",
        "db_x = np.array(\n",
        "    [simplest_features_test.x1.min(),\n",
        "    simplest_features_test.x1.max()]\n",
        ")\n",
        "db_y = slope * db_x + intercept\n",
        "\n",
        "plt.scatter(simplest_features_test.x1,simplest_features_test.x2,c = simplest_label_test)\n",
        "# Graficamos nuestro umbral de clasificación\n",
        "plt.plot(db_x,db_y)"
      ],
      "metadata": {
        "colab": {
          "base_uri": "https://localhost:8080/",
          "height": 448
        },
        "id": "ACeR1UW3eYS0",
        "outputId": "1ffc89b0-ec15-47a9-9a6a-0961f4cb771c"
      },
      "execution_count": 5,
      "outputs": [
        {
          "output_type": "execute_result",
          "data": {
            "text/plain": [
              "[<matplotlib.lines.Line2D at 0x7f83f4305d20>]"
            ]
          },
          "metadata": {},
          "execution_count": 5
        },
        {
          "output_type": "display_data",
          "data": {
            "text/plain": [
              "<Figure size 640x480 with 1 Axes>"
            ],
            "image/png": "[encoded data removed]"
          },
          "metadata": {}
        }
      ]
    },
    {
      "cell_type": "markdown",
      "source": [
        "¿Y como se comporta para otra distribución de datos?"
      ],
      "metadata": {
        "id": "63fl0KObe0pc"
      }
    },
    {
      "cell_type": "code",
      "source": [
        "checkerboard = pd.read_csv(\"https://raw.githubusercontent.com/fvillena/mlb/master/data/checkerboard.csv\")\n",
        "plt.scatter(checkerboard.x1,checkerboard.x2,c = checkerboard.y)"
      ],
      "metadata": {
        "colab": {
          "base_uri": "https://localhost:8080/",
          "height": 448
        },
        "id": "bVeGs_nJe0WF",
        "outputId": "7279f3f7-b39e-4ffb-91af-36d3dfcc7bbd"
      },
      "execution_count": 6,
      "outputs": [
        {
          "output_type": "execute_result",
          "data": {
            "text/plain": [
              "<matplotlib.collections.PathCollection at 0x7f83f4377f40>"
            ]
          },
          "metadata": {},
          "execution_count": 6
        },
        {
          "output_type": "display_data",
          "data": {
            "text/plain": [
              "<Figure size 640x480 with 1 Axes>"
            ],
            "image/png": "[encoded data removed]"
          },
          "metadata": {}
        }
      ]
    },
    {
      "cell_type": "code",
      "source": [
        "#Preprocesamiento y división de train/test\n",
        "checkerboard_features = checkerboard.iloc[:,:-1]\n",
        "checkerboard_label = checkerboard.y\n",
        "checkerboard_features_train, checkerboard_features_test, checkerboard_label_train, checkerboard_label_test = sklearn.model_selection.train_test_split(\n",
        "    checkerboard_features,\n",
        "    checkerboard_label,\n",
        "    test_size=0.33,\n",
        "    random_state=11\n",
        ")\n",
        "#Ajustamos a un perceptrón\n",
        "p1 = sklearn.linear_model.Perceptron()\n",
        "p1.fit(checkerboard_features_train,checkerboard_label_train)\n",
        "#Métricas\n",
        "print(sklearn.metrics.classification_report(checkerboard_label_test,p1.predict(checkerboard_features_test)))"
      ],
      "metadata": {
        "colab": {
          "base_uri": "https://localhost:8080/"
        },
        "id": "IQ-RL314fHem",
        "outputId": "23732635-1dd9-47f5-9976-0c8ca14b08c5"
      },
      "execution_count": 7,
      "outputs": [
        {
          "output_type": "stream",
          "name": "stdout",
          "text": [
            "              precision    recall  f1-score   support\n",
            "\n",
            "           0       0.67      0.56      0.61        18\n",
            "           1       0.56      0.67      0.61        15\n",
            "\n",
            "    accuracy                           0.61        33\n",
            "   macro avg       0.61      0.61      0.61        33\n",
            "weighted avg       0.62      0.61      0.61        33\n",
            "\n"
          ]
        }
      ]
    },
    {
      "cell_type": "code",
      "source": [
        "#Visualización\n",
        "slope = -( p1.intercept_ / p1.coef_[0][1] ) / ( p1.intercept_ / p1.coef_[0][0] )  \n",
        "intercept = -p1.intercept_ / p1.coef_[0][1]\n",
        "db_x = np.array([checkerboard_features_test.x1.min(),checkerboard_features_test.x1.max()])\n",
        "db_y = slope * db_x + intercept\n",
        "plt.scatter(checkerboard_features_test.x1,checkerboard_features_test.x2,c = checkerboard_label_test)\n",
        "plt.plot(db_x,db_y)\n",
        "plt.show()"
      ],
      "metadata": {
        "colab": {
          "base_uri": "https://localhost:8080/",
          "height": 430
        },
        "id": "UasyO0SwfabJ",
        "outputId": "e2a4cae1-3776-4745-e4f7-80a8ce052701"
      },
      "execution_count": 8,
      "outputs": [
        {
          "output_type": "display_data",
          "data": {
            "text/plain": [
              "<Figure size 640x480 with 1 Axes>"
            ],
            "image/png": "[encoded data removed]"
          },
          "metadata": {}
        }
      ]
    },
    {
      "cell_type": "markdown",
      "source": [
        "---\n",
        "<img src='https://storage.googleapis.com/kaggle-datasets-images/180/384/3da2510581f9d3b902307ff8d06fe327/dataset-cover.jpg' class=\"bg-primary mb-1\" align=\"right\" width=\"1000\"/>"
      ],
      "metadata": {
        "id": "V4Sror-vXynl"
      }
    },
    {
      "cell_type": "markdown",
      "source": [
        "Para esta clase usaremos [Breast Cancer Wisconsin (Diagnostic) Data Set](https://archive.ics.uci.edu/ml/datasets/Breast+Cancer+Wisconsin+(Diagnostic)), directamente desde las bases de datos almacenadas en Sklearn."
      ],
      "metadata": {
        "id": "WWe8bZcgSd8r"
      }
    },
    {
      "cell_type": "code",
      "source": [
        "from sklearn.datasets import load_breast_cancer\n",
        "from sklearn.preprocessing import MinMaxScaler\n",
        "\n",
        "data, target = load_breast_cancer(as_frame=True, return_X_y=True)\n",
        "data[data.columns] = MinMaxScaler().fit_transform(data)\n",
        "data"
      ],
      "metadata": {
        "colab": {
          "base_uri": "https://localhost:8080/",
          "height": 522
        },
        "id": "qWkRKxtkSBPY",
        "outputId": "63950745-10e0-40dc-a52e-6f862e9463d4"
      },
      "execution_count": 9,
      "outputs": [
        {
          "output_type": "execute_result",
          "data": {
            "text/plain": [
              "     mean radius  mean texture  mean perimeter  mean area  mean smoothness  \\\n",
              "0       0.521037      0.022658        0.545989   0.363733         0.593753   \n",
              "1       0.643144      0.272574        0.615783   0.501591         0.289880   \n",
              "2       0.601496      0.390260        0.595743   0.449417         0.514309   \n",
              "3       0.210090      0.360839        0.233501   0.102906         0.811321   \n",
              "4       0.629893      0.156578        0.630986   0.489290         0.430351   \n",
              "..           ...           ...             ...        ...              ...   \n",
              "564     0.690000      0.428813        0.678668   0.566490         0.526948   \n",
              "565     0.622320      0.626987        0.604036   0.474019         0.407782   \n",
              "566     0.455251      0.621238        0.445788   0.303118         0.288165   \n",
              "567     0.644564      0.663510        0.665538   0.475716         0.588336   \n",
              "568     0.036869      0.501522        0.028540   0.015907         0.000000   \n",
              "\n",
              "     mean compactness  mean concavity  mean concave points  mean symmetry  \\\n",
              "0            0.792037        0.703140             0.731113       0.686364   \n",
              "1            0.181768        0.203608             0.348757       0.379798   \n",
              "2            0.431017        0.462512             0.635686       0.509596   \n",
              "3            0.811361        0.565604             0.522863       0.776263   \n",
              "4            0.347893        0.463918             0.518390       0.378283   \n",
              "..                ...             ...                  ...            ...   \n",
              "564          0.296055        0.571462             0.690358       0.336364   \n",
              "565          0.257714        0.337395             0.486630       0.349495   \n",
              "566          0.254340        0.216753             0.263519       0.267677   \n",
              "567          0.790197        0.823336             0.755467       0.675253   \n",
              "568          0.074351        0.000000             0.000000       0.266162   \n",
              "\n",
              "     mean fractal dimension  ...  worst radius  worst texture  \\\n",
              "0                  0.605518  ...      0.620776       0.141525   \n",
              "1                  0.141323  ...      0.606901       0.303571   \n",
              "2                  0.211247  ...      0.556386       0.360075   \n",
              "3                  1.000000  ...      0.248310       0.385928   \n",
              "4                  0.186816  ...      0.519744       0.123934   \n",
              "..                      ...  ...           ...            ...   \n",
              "564                0.132056  ...      0.623266       0.383262   \n",
              "565                0.113100  ...      0.560655       0.699094   \n",
              "566                0.137321  ...      0.393099       0.589019   \n",
              "567                0.425442  ...      0.633582       0.730277   \n",
              "568                0.187026  ...      0.054287       0.489072   \n",
              "\n",
              "     worst perimeter  worst area  worst smoothness  worst compactness  \\\n",
              "0           0.668310    0.450698          0.601136           0.619292   \n",
              "1           0.539818    0.435214          0.347553           0.154563   \n",
              "2           0.508442    0.374508          0.483590           0.385375   \n",
              "3           0.241347    0.094008          0.915472           0.814012   \n",
              "4           0.506948    0.341575          0.437364           0.172415   \n",
              "..               ...         ...               ...                ...   \n",
              "564         0.576174    0.452664          0.461137           0.178527   \n",
              "565         0.520892    0.379915          0.300007           0.159997   \n",
              "566         0.379949    0.230731          0.282177           0.273705   \n",
              "567         0.668310    0.402035          0.619626           0.815758   \n",
              "568         0.043578    0.020497          0.124084           0.036043   \n",
              "\n",
              "     worst concavity  worst concave points  worst symmetry  \\\n",
              "0           0.568610              0.912027        0.598462   \n",
              "1           0.192971              0.639175        0.233590   \n",
              "2           0.359744              0.835052        0.403706   \n",
              "3           0.548642              0.884880        1.000000   \n",
              "4           0.319489              0.558419        0.157500   \n",
              "..               ...                   ...             ...   \n",
              "564         0.328035              0.761512        0.097575   \n",
              "565         0.256789              0.559450        0.198502   \n",
              "566         0.271805              0.487285        0.128721   \n",
              "567         0.749760              0.910653        0.497142   \n",
              "568         0.000000              0.000000        0.257441   \n",
              "\n",
              "     worst fractal dimension  \n",
              "0                   0.418864  \n",
              "1                   0.222878  \n",
              "2                   0.213433  \n",
              "3                   0.773711  \n",
              "4                   0.142595  \n",
              "..                       ...  \n",
              "564                 0.105667  \n",
              "565                 0.074315  \n",
              "566                 0.151909  \n",
              "567                 0.452315  \n",
              "568                 0.100682  \n",
              "\n",
              "[569 rows x 30 columns]"
            ],
            "text/html": [
              "\n",
              "  <div id=\"df-2899f05e-d3a7-4149-9d48-50e531a43620\">\n",
              "    <div class=\"colab-df-container\">\n",
              "      <div>\n",
              "<style scoped>\n",
              "    .dataframe tbody tr th:only-of-type {\n",
              "        vertical-align: middle;\n",
              "    }\n",
              "\n",
              "    .dataframe tbody tr th {\n",
              "        vertical-align: top;\n",
              "    }\n",
              "\n",
              "    .dataframe thead th {\n",
              "        text-align: right;\n",
              "    }\n",
              "</style>\n",
              "<table border=\"1\" class=\"dataframe\">\n",
              "  <thead>\n",
              "    <tr style=\"text-align: right;\">\n",
              "      <th></th>\n",
              "      <th>mean radius</th>\n",
              "      <th>mean texture</th>\n",
              "      <th>mean perimeter</th>\n",
              "      <th>mean area</th>\n",
              "      <th>mean smoothness</th>\n",
              "      <th>mean compactness</th>\n",
              "      <th>mean concavity</th>\n",
              "      <th>mean concave points</th>\n",
              "      <th>mean symmetry</th>\n",
              "      <th>mean fractal dimension</th>\n",
              "      <th>...</th>\n",
              "      <th>worst radius</th>\n",
              "      <th>worst texture</th>\n",
              "      <th>worst perimeter</th>\n",
              "      <th>worst area</th>\n",
              "      <th>worst smoothness</th>\n",
              "      <th>worst compactness</th>\n",
              "      <th>worst concavity</th>\n",
              "      <th>worst concave points</th>\n",
              "      <th>worst symmetry</th>\n",
              "      <th>worst fractal dimension</th>\n",
              "    </tr>\n",
              "  </thead>\n",
              "  <tbody>\n",
              "    <tr>\n",
              "      <th>0</th>\n",
              "      <td>0.521037</td>\n",
              "      <td>0.022658</td>\n",
              "      <td>0.545989</td>\n",
              "      <td>0.363733</td>\n",
              "      <td>0.593753</td>\n",
              "      <td>0.792037</td>\n",
              "      <td>0.703140</td>\n",
              "      <td>0.731113</td>\n",
              "      <td>0.686364</td>\n",
              "      <td>0.605518</td>\n",
              "      <td>...</td>\n",
              "      <td>0.620776</td>\n",
              "      <td>0.141525</td>\n",
              "      <td>0.668310</td>\n",
              "      <td>0.450698</td>\n",
              "      <td>0.601136</td>\n",
              "      <td>0.619292</td>\n",
              "      <td>0.568610</td>\n",
              "      <td>0.912027</td>\n",
              "      <td>0.598462</td>\n",
              "      <td>0.418864</td>\n",
              "    </tr>\n",
              "    <tr>\n",
              "      <th>1</th>\n",
              "      <td>0.643144</td>\n",
              "      <td>0.272574</td>\n",
              "      <td>0.615783</td>\n",
              "      <td>0.501591</td>\n",
              "      <td>0.289880</td>\n",
              "      <td>0.181768</td>\n",
              "      <td>0.203608</td>\n",
              "      <td>0.348757</td>\n",
              "      <td>0.379798</td>\n",
              "      <td>0.141323</td>\n",
              "      <td>...</td>\n",
              "      <td>0.606901</td>\n",
              "      <td>0.303571</td>\n",
              "      <td>0.539818</td>\n",
              "      <td>0.435214</td>\n",
              "      <td>0.347553</td>\n",
              "      <td>0.154563</td>\n",
              "      <td>0.192971</td>\n",
              "      <td>0.639175</td>\n",
              "      <td>0.233590</td>\n",
              "      <td>0.222878</td>\n",
              "    </tr>\n",
              "    <tr>\n",
              "      <th>2</th>\n",
              "      <td>0.601496</td>\n",
              "      <td>0.390260</td>\n",
              "      <td>0.595743</td>\n",
              "      <td>0.449417</td>\n",
              "      <td>0.514309</td>\n",
              "      <td>0.431017</td>\n",
              "      <td>0.462512</td>\n",
              "      <td>0.635686</td>\n",
              "      <td>0.509596</td>\n",
              "      <td>0.211247</td>\n",
              "      <td>...</td>\n",
              "      <td>0.556386</td>\n",
              "      <td>0.360075</td>\n",
              "      <td>0.508442</td>\n",
              "      <td>0.374508</td>\n",
              "      <td>0.483590</td>\n",
              "      <td>0.385375</td>\n",
              "      <td>0.359744</td>\n",
              "      <td>0.835052</td>\n",
              "      <td>0.403706</td>\n",
              "      <td>0.213433</td>\n",
              "    </tr>\n",
              "    <tr>\n",
              "      <th>3</th>\n",
              "      <td>0.210090</td>\n",
              "      <td>0.360839</td>\n",
              "      <td>0.233501</td>\n",
              "      <td>0.102906</td>\n",
              "      <td>0.811321</td>\n",
              "      <td>0.811361</td>\n",
              "      <td>0.565604</td>\n",
              "      <td>0.522863</td>\n",
              "      <td>0.776263</td>\n",
              "      <td>1.000000</td>\n",
              "      <td>...</td>\n",
              "      <td>0.248310</td>\n",
              "      <td>0.385928</td>\n",
              "      <td>0.241347</td>\n",
              "      <td>0.094008</td>\n",
              "      <td>0.915472</td>\n",
              "      <td>0.814012</td>\n",
              "      <td>0.548642</td>\n",
              "      <td>0.884880</td>\n",
              "      <td>1.000000</td>\n",
              "      <td>0.773711</td>\n",
              "    </tr>\n",
              "    <tr>\n",
              "      <th>4</th>\n",
              "      <td>0.629893</td>\n",
              "      <td>0.156578</td>\n",
              "      <td>0.630986</td>\n",
              "      <td>0.489290</td>\n",
              "      <td>0.430351</td>\n",
              "      <td>0.347893</td>\n",
              "      <td>0.463918</td>\n",
              "      <td>0.518390</td>\n",
              "      <td>0.378283</td>\n",
              "      <td>0.186816</td>\n",
              "      <td>...</td>\n",
              "      <td>0.519744</td>\n",
              "      <td>0.123934</td>\n",
              "      <td>0.506948</td>\n",
              "      <td>0.341575</td>\n",
              "      <td>0.437364</td>\n",
              "      <td>0.172415</td>\n",
              "      <td>0.319489</td>\n",
              "      <td>0.558419</td>\n",
              "      <td>0.157500</td>\n",
              "      <td>0.142595</td>\n",
              "    </tr>\n",
              "    <tr>\n",
              "      <th>...</th>\n",
              "      <td>...</td>\n",
              "      <td>...</td>\n",
              "      <td>...</td>\n",
              "      <td>...</td>\n",
              "      <td>...</td>\n",
              "      <td>...</td>\n",
              "      <td>...</td>\n",
              "      <td>...</td>\n",
              "      <td>...</td>\n",
              "      <td>...</td>\n",
              "      <td>...</td>\n",
              "      <td>...</td>\n",
              "      <td>...</td>\n",
              "      <td>...</td>\n",
              "      <td>...</td>\n",
              "      <td>...</td>\n",
              "      <td>...</td>\n",
              "      <td>...</td>\n",
              "      <td>...</td>\n",
              "      <td>...</td>\n",
              "      <td>...</td>\n",
              "    </tr>\n",
              "    <tr>\n",
              "      <th>564</th>\n",
              "      <td>0.690000</td>\n",
              "      <td>0.428813</td>\n",
              "      <td>0.678668</td>\n",
              "      <td>0.566490</td>\n",
              "      <td>0.526948</td>\n",
              "      <td>0.296055</td>\n",
              "      <td>0.571462</td>\n",
              "      <td>0.690358</td>\n",
              "      <td>0.336364</td>\n",
              "      <td>0.132056</td>\n",
              "      <td>...</td>\n",
              "      <td>0.623266</td>\n",
              "      <td>0.383262</td>\n",
              "      <td>0.576174</td>\n",
              "      <td>0.452664</td>\n",
              "      <td>0.461137</td>\n",
              "      <td>0.178527</td>\n",
              "      <td>0.328035</td>\n",
              "      <td>0.761512</td>\n",
              "      <td>0.097575</td>\n",
              "      <td>0.105667</td>\n",
              "    </tr>\n",
              "    <tr>\n",
              "      <th>565</th>\n",
              "      <td>0.622320</td>\n",
              "      <td>0.626987</td>\n",
              "      <td>0.604036</td>\n",
              "      <td>0.474019</td>\n",
              "      <td>0.407782</td>\n",
              "      <td>0.257714</td>\n",
              "      <td>0.337395</td>\n",
              "      <td>0.486630</td>\n",
              "      <td>0.349495</td>\n",
              "      <td>0.113100</td>\n",
              "      <td>...</td>\n",
              "      <td>0.560655</td>\n",
              "      <td>0.699094</td>\n",
              "      <td>0.520892</td>\n",
              "      <td>0.379915</td>\n",
              "      <td>0.300007</td>\n",
              "      <td>0.159997</td>\n",
              "      <td>0.256789</td>\n",
              "      <td>0.559450</td>\n",
              "      <td>0.198502</td>\n",
              "      <td>0.074315</td>\n",
              "    </tr>\n",
              "    <tr>\n",
              "      <th>566</th>\n",
              "      <td>0.455251</td>\n",
              "      <td>0.621238</td>\n",
              "      <td>0.445788</td>\n",
              "      <td>0.303118</td>\n",
              "      <td>0.288165</td>\n",
              "      <td>0.254340</td>\n",
              "      <td>0.216753</td>\n",
              "      <td>0.263519</td>\n",
              "      <td>0.267677</td>\n",
              "      <td>0.137321</td>\n",
              "      <td>...</td>\n",
              "      <td>0.393099</td>\n",
              "      <td>0.589019</td>\n",
              "      <td>0.379949</td>\n",
              "      <td>0.230731</td>\n",
              "      <td>0.282177</td>\n",
              "      <td>0.273705</td>\n",
              "      <td>0.271805</td>\n",
              "      <td>0.487285</td>\n",
              "      <td>0.128721</td>\n",
              "      <td>0.151909</td>\n",
              "    </tr>\n",
              "    <tr>\n",
              "      <th>567</th>\n",
              "      <td>0.644564</td>\n",
              "      <td>0.663510</td>\n",
              "      <td>0.665538</td>\n",
              "      <td>0.475716</td>\n",
              "      <td>0.588336</td>\n",
              "      <td>0.790197</td>\n",
              "      <td>0.823336</td>\n",
              "      <td>0.755467</td>\n",
              "      <td>0.675253</td>\n",
              "      <td>0.425442</td>\n",
              "      <td>...</td>\n",
              "      <td>0.633582</td>\n",
              "      <td>0.730277</td>\n",
              "      <td>0.668310</td>\n",
              "      <td>0.402035</td>\n",
              "      <td>0.619626</td>\n",
              "      <td>0.815758</td>\n",
              "      <td>0.749760</td>\n",
              "      <td>0.910653</td>\n",
              "      <td>0.497142</td>\n",
              "      <td>0.452315</td>\n",
              "    </tr>\n",
              "    <tr>\n",
              "      <th>568</th>\n",
              "      <td>0.036869</td>\n",
              "      <td>0.501522</td>\n",
              "      <td>0.028540</td>\n",
              "      <td>0.015907</td>\n",
              "      <td>0.000000</td>\n",
              "      <td>0.074351</td>\n",
              "      <td>0.000000</td>\n",
              "      <td>0.000000</td>\n",
              "      <td>0.266162</td>\n",
              "      <td>0.187026</td>\n",
              "      <td>...</td>\n",
              "      <td>0.054287</td>\n",
              "      <td>0.489072</td>\n",
              "      <td>0.043578</td>\n",
              "      <td>0.020497</td>\n",
              "      <td>0.124084</td>\n",
              "      <td>0.036043</td>\n",
              "      <td>0.000000</td>\n",
              "      <td>0.000000</td>\n",
              "      <td>0.257441</td>\n",
              "      <td>0.100682</td>\n",
              "    </tr>\n",
              "  </tbody>\n",
              "</table>\n",
              "<p>569 rows × 30 columns</p>\n",
              "</div>\n",
              "      <button class=\"colab-df-convert\" onclick=\"convertToInteractive('df-2899f05e-d3a7-4149-9d48-50e531a43620')\"\n",
              "              title=\"Convert this dataframe to an interactive table.\"\n",
              "              style=\"display:none;\">\n",
              "        \n",
              "  <svg xmlns=\"http://www.w3.org/2000/svg\" height=\"24px\"viewBox=\"0 0 24 24\"\n",
              "       width=\"24px\">\n",
              "    <path d=\"M0 0h24v24H0V0z\" fill=\"none\"/>\n",
              "    <path d=\"M18.56 5.44l.94 2.06.94-2.06 2.06-.94-2.06-.94-.94-2.06-.94 2.06-2.06.94zm-11 1L8.5 8.5l.94-2.06 2.06-.94-2.06-.94L8.5 2.5l-.94 2.06-2.06.94zm10 10l.94 2.06.94-2.06 2.06-.94-2.06-.94-.94-2.06-.94 2.06-2.06.94z\"/><path d=\"M17.41 7.96l-1.37-1.37c-.4-.4-.92-.59-1.43-.59-.52 0-1.04.2-1.43.59L10.3 9.45l-7.72 7.72c-.78.78-.78 2.05 0 2.83L4 21.41c.39.39.9.59 1.41.59.51 0 1.02-.2 1.41-.59l7.78-7.78 2.81-2.81c.8-.78.8-2.07 0-2.86zM5.41 20L4 18.59l7.72-7.72 1.47 1.35L5.41 20z\"/>\n",
              "  </svg>\n",
              "      </button>\n",
              "      \n",
              "  <style>\n",
              "    .colab-df-container {\n",
              "      display:flex;\n",
              "      flex-wrap:wrap;\n",
              "      gap: 12px;\n",
              "    }\n",
              "\n",
              "    .colab-df-convert {\n",
              "      background-color: #E8F0FE;\n",
              "      border: none;\n",
              "      border-radius: 50%;\n",
              "      cursor: pointer;\n",
              "      display: none;\n",
              "      fill: #1967D2;\n",
              "      height: 32px;\n",
              "      padding: 0 0 0 0;\n",
              "      width: 32px;\n",
              "    }\n",
              "\n",
              "    .colab-df-convert:hover {\n",
              "      background-color: #E2EBFA;\n",
              "      box-shadow: 0px 1px 2px rgba(60, 64, 67, 0.3), 0px 1px 3px 1px rgba(60, 64, 67, 0.15);\n",
              "      fill: #174EA6;\n",
              "    }\n",
              "\n",
              "    [theme=dark] .colab-df-convert {\n",
              "      background-color: #3B4455;\n",
              "      fill: #D2E3FC;\n",
              "    }\n",
              "\n",
              "    [theme=dark] .colab-df-convert:hover {\n",
              "      background-color: #434B5C;\n",
              "      box-shadow: 0px 1px 3px 1px rgba(0, 0, 0, 0.15);\n",
              "      filter: drop-shadow(0px 1px 2px rgba(0, 0, 0, 0.3));\n",
              "      fill: #FFFFFF;\n",
              "    }\n",
              "  </style>\n",
              "\n",
              "      <script>\n",
              "        const buttonEl =\n",
              "          document.querySelector('#df-2899f05e-d3a7-4149-9d48-50e531a43620 button.colab-df-convert');\n",
              "        buttonEl.style.display =\n",
              "          google.colab.kernel.accessAllowed ? 'block' : 'none';\n",
              "\n",
              "        async function convertToInteractive(key) {\n",
              "          const element = document.querySelector('#df-2899f05e-d3a7-4149-9d48-50e531a43620');\n",
              "          const dataTable =\n",
              "            await google.colab.kernel.invokeFunction('convertToInteractive',\n",
              "                                                     [key], {});\n",
              "          if (!dataTable) return;\n",
              "\n",
              "          const docLinkHtml = 'Like what you see? Visit the ' +\n",
              "            '<a target=\"_blank\" href=https://colab.research.google.com/notebooks/data_table.ipynb>data table notebook</a>'\n",
              "            + ' to learn more about interactive tables.';\n",
              "          element.innerHTML = '';\n",
              "          dataTable['output_type'] = 'display_data';\n",
              "          await google.colab.output.renderOutput(dataTable, element);\n",
              "          const docLink = document.createElement('div');\n",
              "          docLink.innerHTML = docLinkHtml;\n",
              "          element.appendChild(docLink);\n",
              "        }\n",
              "      </script>\n",
              "    </div>\n",
              "  </div>\n",
              "  "
            ]
          },
          "metadata": {},
          "execution_count": 9
        }
      ]
    },
    {
      "cell_type": "code",
      "metadata": {
        "id": "srHzPAZu34Xl"
      },
      "source": [
        "# Dividimos nuestro conjunto de datos en subconjuntos de entrenamiento y prueba\n",
        "X_train, X_test, Y_train, Y_test = sklearn.model_selection.train_test_split(\n",
        "    data,\n",
        "    target,\n",
        "    test_size=0.33, # Tamaño del conjunto de prueba\n",
        "    random_state=11 # Bloqueamos el generador de números al azar con una semilla\n",
        ")"
      ],
      "execution_count": 10,
      "outputs": []
    },
    {
      "cell_type": "markdown",
      "metadata": {
        "id": "8Inc2t3M3-M3"
      },
      "source": [
        "Ajustaremos un único perceptrón para poder separar las clases de nuestros datos."
      ]
    },
    {
      "cell_type": "code",
      "metadata": {
        "id": "b77L64--35fd",
        "outputId": "025cf45f-e2a6-4500-b0c5-3a6812420e05",
        "colab": {
          "base_uri": "https://localhost:8080/",
          "height": 75
        }
      },
      "source": [
        "p = sklearn.linear_model.Perceptron() # Instanciamos nuestro perceptrón\n",
        "p.fit(\n",
        "    X_train,\n",
        "    Y_train\n",
        ") # Ajustamos el perceptrón con los datos de entrenamiento"
      ],
      "execution_count": 11,
      "outputs": [
        {
          "output_type": "execute_result",
          "data": {
            "text/plain": [
              "Perceptron()"
            ],
            "text/html": [
              "<style>#sk-container-id-1 {color: black;background-color: white;}#sk-container-id-1 pre{padding: 0;}#sk-container-id-1 div.sk-toggleable {background-color: white;}#sk-container-id-1 label.sk-toggleable__label {cursor: pointer;display: block;width: 100%;margin-bottom: 0;padding: 0.3em;box-sizing: border-box;text-align: center;}#sk-container-id-1 label.sk-toggleable__label-arrow:before {content: \"▸\";float: left;margin-right: 0.25em;color: #696969;}#sk-container-id-1 label.sk-toggleable__label-arrow:hover:before {color: black;}#sk-container-id-1 div.sk-estimator:hover label.sk-toggleable__label-arrow:before {color: black;}#sk-container-id-1 div.sk-toggleable__content {max-height: 0;max-width: 0;overflow: hidden;text-align: left;background-color: #f0f8ff;}#sk-container-id-1 div.sk-toggleable__content pre {margin: 0.2em;color: black;border-radius: 0.25em;background-color: #f0f8ff;}#sk-container-id-1 input.sk-toggleable__control:checked~div.sk-toggleable__content {max-height: 200px;max-width: 100%;overflow: auto;}#sk-container-id-1 input.sk-toggleable__control:checked~label.sk-toggleable__label-arrow:before {content: \"▾\";}#sk-container-id-1 div.sk-estimator input.sk-toggleable__control:checked~label.sk-toggleable__label {background-color: #d4ebff;}#sk-container-id-1 div.sk-label input.sk-toggleable__control:checked~label.sk-toggleable__label {background-color: #d4ebff;}#sk-container-id-1 input.sk-hidden--visually {border: 0;clip: rect(1px 1px 1px 1px);clip: rect(1px, 1px, 1px, 1px);height: 1px;margin: -1px;overflow: hidden;padding: 0;position: absolute;width: 1px;}#sk-container-id-1 div.sk-estimator {font-family: monospace;background-color: #f0f8ff;border: 1px dotted black;border-radius: 0.25em;box-sizing: border-box;margin-bottom: 0.5em;}#sk-container-id-1 div.sk-estimator:hover {background-color: #d4ebff;}#sk-container-id-1 div.sk-parallel-item::after {content: \"\";width: 100%;border-bottom: 1px solid gray;flex-grow: 1;}#sk-container-id-1 div.sk-label:hover label.sk-toggleable__label {background-color: #d4ebff;}#sk-container-id-1 div.sk-serial::before {content: \"\";position: absolute;border-left: 1px solid gray;box-sizing: border-box;top: 0;bottom: 0;left: 50%;z-index: 0;}#sk-container-id-1 div.sk-serial {display: flex;flex-direction: column;align-items: center;background-color: white;padding-right: 0.2em;padding-left: 0.2em;position: relative;}#sk-container-id-1 div.sk-item {position: relative;z-index: 1;}#sk-container-id-1 div.sk-parallel {display: flex;align-items: stretch;justify-content: center;background-color: white;position: relative;}#sk-container-id-1 div.sk-item::before, #sk-container-id-1 div.sk-parallel-item::before {content: \"\";position: absolute;border-left: 1px solid gray;box-sizing: border-box;top: 0;bottom: 0;left: 50%;z-index: -1;}#sk-container-id-1 div.sk-parallel-item {display: flex;flex-direction: column;z-index: 1;position: relative;background-color: white;}#sk-container-id-1 div.sk-parallel-item:first-child::after {align-self: flex-end;width: 50%;}#sk-container-id-1 div.sk-parallel-item:last-child::after {align-self: flex-start;width: 50%;}#sk-container-id-1 div.sk-parallel-item:only-child::after {width: 0;}#sk-container-id-1 div.sk-dashed-wrapped {border: 1px dashed gray;margin: 0 0.4em 0.5em 0.4em;box-sizing: border-box;padding-bottom: 0.4em;background-color: white;}#sk-container-id-1 div.sk-label label {font-family: monospace;font-weight: bold;display: inline-block;line-height: 1.2em;}#sk-container-id-1 div.sk-label-container {text-align: center;}#sk-container-id-1 div.sk-container {/* jupyter's `normalize.less` sets `[hidden] { display: none; }` but bootstrap.min.css set `[hidden] { display: none !important; }` so we also need the `!important` here to be able to override the default hidden behavior on the sphinx rendered scikit-learn.org. See: https://github.com/scikit-learn/scikit-learn/issues/21755 */display: inline-block !important;position: relative;}#sk-container-id-1 div.sk-text-repr-fallback {display: none;}</style><div id=\"sk-container-id-1\" class=\"sk-top-container\"><div class=\"sk-text-repr-fallback\"><pre>Perceptron()</pre><b>In a Jupyter environment, please rerun this cell to show the HTML representation or trust the notebook. <br />On GitHub, the HTML representation is unable to render, please try loading this page with nbviewer.org.</b></div><div class=\"sk-container\" hidden><div class=\"sk-item\"><div class=\"sk-estimator sk-toggleable\"><input class=\"sk-toggleable__control sk-hidden--visually\" id=\"sk-estimator-id-1\" type=\"checkbox\" checked><label for=\"sk-estimator-id-1\" class=\"sk-toggleable__label sk-toggleable__label-arrow\">Perceptron</label><div class=\"sk-toggleable__content\"><pre>Perceptron()</pre></div></div></div></div></div>"
            ]
          },
          "metadata": {},
          "execution_count": 11
        }
      ]
    },
    {
      "cell_type": "code",
      "metadata": {
        "colab": {
          "base_uri": "https://localhost:8080/"
        },
        "id": "IxnBvNJG3_9M",
        "outputId": "8737e61d-955e-40c2-c098-f5985684fbd1"
      },
      "source": [
        "print(sklearn.metrics.classification_report(\n",
        "    Y_test, # Etiquetas reales del conjunto de prueba\n",
        "    p.predict(X_test) # Etiquetas predichas por el modelo\n",
        "))"
      ],
      "execution_count": 12,
      "outputs": [
        {
          "output_type": "stream",
          "name": "stdout",
          "text": [
            "              precision    recall  f1-score   support\n",
            "\n",
            "           0       0.90      0.97      0.94        67\n",
            "           1       0.98      0.94      0.96       121\n",
            "\n",
            "    accuracy                           0.95       188\n",
            "   macro avg       0.94      0.96      0.95       188\n",
            "weighted avg       0.95      0.95      0.95       188\n",
            "\n"
          ]
        }
      ]
    },
    {
      "cell_type": "code",
      "source": [
        "#Veamos la matriz de confusión\n",
        "cm = sklearn.metrics.confusion_matrix(Y_test,p.predict(X_test))\n",
        "disp = sklearn.metrics.ConfusionMatrixDisplay(confusion_matrix=cm)\n",
        "disp.plot()\n",
        "plt.show()"
      ],
      "metadata": {
        "colab": {
          "base_uri": "https://localhost:8080/",
          "height": 449
        },
        "id": "VwKpXknDF-dU",
        "outputId": "c2cb5177-43e8-4257-840c-66cac8b9f9d5"
      },
      "execution_count": 13,
      "outputs": [
        {
          "output_type": "display_data",
          "data": {
            "text/plain": [
              "<Figure size 640x480 with 2 Axes>"
            ],
            "image/png": "[encoded data removed]"
          },
          "metadata": {}
        }
      ]
    },
    {
      "cell_type": "markdown",
      "metadata": {
        "id": "zXhHsZP54WNI"
      },
      "source": [
        "Exploremos los parámetros ajustados de nuestro perceptrón"
      ]
    },
    {
      "cell_type": "code",
      "metadata": {
        "colab": {
          "base_uri": "https://localhost:8080/",
          "height": 990
        },
        "id": "NrOFmmAR4ON9",
        "outputId": "7798a6bf-2bcb-4ef1-d2f2-bcced8c5c241"
      },
      "source": [
        "#Aporte de cada parámetro\n",
        "df = pd.DataFrame({\"name\":p.feature_names_in_, \"value\":p.coef_[0]})\n",
        "df.sort_values(by = \"value\")"
      ],
      "execution_count": 14,
      "outputs": [
        {
          "output_type": "execute_result",
          "data": {
            "text/plain": [
              "                       name     value\n",
              "21            worst texture -4.918443\n",
              "10             radius error -4.642260\n",
              "7       mean concave points -4.331610\n",
              "27     worst concave points -4.260687\n",
              "28           worst symmetry -4.078849\n",
              "20             worst radius -3.976521\n",
              "12          perimeter error -3.569759\n",
              "22          worst perimeter -3.556651\n",
              "23               worst area -3.503416\n",
              "24         worst smoothness -3.454666\n",
              "1              mean texture -3.407846\n",
              "6            mean concavity -3.101162\n",
              "13               area error -2.822396\n",
              "14         smoothness error -2.443179\n",
              "25        worst compactness -2.191664\n",
              "3                 mean area -1.932174\n",
              "26          worst concavity -1.409449\n",
              "2            mean perimeter -1.238822\n",
              "0               mean radius -1.102844\n",
              "29  worst fractal dimension -1.014627\n",
              "5          mean compactness -0.390007\n",
              "17     concave points error -0.169559\n",
              "4           mean smoothness  0.363546\n",
              "8             mean symmetry  0.628788\n",
              "18           symmetry error  1.223434\n",
              "15        compactness error  1.779741\n",
              "11            texture error  1.820964\n",
              "16          concavity error  1.840152\n",
              "19  fractal dimension error  2.069994\n",
              "9    mean fractal dimension  3.311710"
            ],
            "text/html": [
              "\n",
              "  <div id=\"df-a1af1ba1-4698-4a98-8ff8-d9e8ac211020\">\n",
              "    <div class=\"colab-df-container\">\n",
              "      <div>\n",
              "<style scoped>\n",
              "    .dataframe tbody tr th:only-of-type {\n",
              "        vertical-align: middle;\n",
              "    }\n",
              "\n",
              "    .dataframe tbody tr th {\n",
              "        vertical-align: top;\n",
              "    }\n",
              "\n",
              "    .dataframe thead th {\n",
              "        text-align: right;\n",
              "    }\n",
              "</style>\n",
              "<table border=\"1\" class=\"dataframe\">\n",
              "  <thead>\n",
              "    <tr style=\"text-align: right;\">\n",
              "      <th></th>\n",
              "      <th>name</th>\n",
              "      <th>value</th>\n",
              "    </tr>\n",
              "  </thead>\n",
              "  <tbody>\n",
              "    <tr>\n",
              "      <th>21</th>\n",
              "      <td>worst texture</td>\n",
              "      <td>-4.918443</td>\n",
              "    </tr>\n",
              "    <tr>\n",
              "      <th>10</th>\n",
              "      <td>radius error</td>\n",
              "      <td>-4.642260</td>\n",
              "    </tr>\n",
              "    <tr>\n",
              "      <th>7</th>\n",
              "      <td>mean concave points</td>\n",
              "      <td>-4.331610</td>\n",
              "    </tr>\n",
              "    <tr>\n",
              "      <th>27</th>\n",
              "      <td>worst concave points</td>\n",
              "      <td>-4.260687</td>\n",
              "    </tr>\n",
              "    <tr>\n",
              "      <th>28</th>\n",
              "      <td>worst symmetry</td>\n",
              "      <td>-4.078849</td>\n",
              "    </tr>\n",
              "    <tr>\n",
              "      <th>20</th>\n",
              "      <td>worst radius</td>\n",
              "      <td>-3.976521</td>\n",
              "    </tr>\n",
              "    <tr>\n",
              "      <th>12</th>\n",
              "      <td>perimeter error</td>\n",
              "      <td>-3.569759</td>\n",
              "    </tr>\n",
              "    <tr>\n",
              "      <th>22</th>\n",
              "      <td>worst perimeter</td>\n",
              "      <td>-3.556651</td>\n",
              "    </tr>\n",
              "    <tr>\n",
              "      <th>23</th>\n",
              "      <td>worst area</td>\n",
              "      <td>-3.503416</td>\n",
              "    </tr>\n",
              "    <tr>\n",
              "      <th>24</th>\n",
              "      <td>worst smoothness</td>\n",
              "      <td>-3.454666</td>\n",
              "    </tr>\n",
              "    <tr>\n",
              "      <th>1</th>\n",
              "      <td>mean texture</td>\n",
              "      <td>-3.407846</td>\n",
              "    </tr>\n",
              "    <tr>\n",
              "      <th>6</th>\n",
              "      <td>mean concavity</td>\n",
              "      <td>-3.101162</td>\n",
              "    </tr>\n",
              "    <tr>\n",
              "      <th>13</th>\n",
              "      <td>area error</td>\n",
              "      <td>-2.822396</td>\n",
              "    </tr>\n",
              "    <tr>\n",
              "      <th>14</th>\n",
              "      <td>smoothness error</td>\n",
              "      <td>-2.443179</td>\n",
              "    </tr>\n",
              "    <tr>\n",
              "      <th>25</th>\n",
              "      <td>worst compactness</td>\n",
              "      <td>-2.191664</td>\n",
              "    </tr>\n",
              "    <tr>\n",
              "      <th>3</th>\n",
              "      <td>mean area</td>\n",
              "      <td>-1.932174</td>\n",
              "    </tr>\n",
              "    <tr>\n",
              "      <th>26</th>\n",
              "      <td>worst concavity</td>\n",
              "      <td>-1.409449</td>\n",
              "    </tr>\n",
              "    <tr>\n",
              "      <th>2</th>\n",
              "      <td>mean perimeter</td>\n",
              "      <td>-1.238822</td>\n",
              "    </tr>\n",
              "    <tr>\n",
              "      <th>0</th>\n",
              "      <td>mean radius</td>\n",
              "      <td>-1.102844</td>\n",
              "    </tr>\n",
              "    <tr>\n",
              "      <th>29</th>\n",
              "      <td>worst fractal dimension</td>\n",
              "      <td>-1.014627</td>\n",
              "    </tr>\n",
              "    <tr>\n",
              "      <th>5</th>\n",
              "      <td>mean compactness</td>\n",
              "      <td>-0.390007</td>\n",
              "    </tr>\n",
              "    <tr>\n",
              "      <th>17</th>\n",
              "      <td>concave points error</td>\n",
              "      <td>-0.169559</td>\n",
              "    </tr>\n",
              "    <tr>\n",
              "      <th>4</th>\n",
              "      <td>mean smoothness</td>\n",
              "      <td>0.363546</td>\n",
              "    </tr>\n",
              "    <tr>\n",
              "      <th>8</th>\n",
              "      <td>mean symmetry</td>\n",
              "      <td>0.628788</td>\n",
              "    </tr>\n",
              "    <tr>\n",
              "      <th>18</th>\n",
              "      <td>symmetry error</td>\n",
              "      <td>1.223434</td>\n",
              "    </tr>\n",
              "    <tr>\n",
              "      <th>15</th>\n",
              "      <td>compactness error</td>\n",
              "      <td>1.779741</td>\n",
              "    </tr>\n",
              "    <tr>\n",
              "      <th>11</th>\n",
              "      <td>texture error</td>\n",
              "      <td>1.820964</td>\n",
              "    </tr>\n",
              "    <tr>\n",
              "      <th>16</th>\n",
              "      <td>concavity error</td>\n",
              "      <td>1.840152</td>\n",
              "    </tr>\n",
              "    <tr>\n",
              "      <th>19</th>\n",
              "      <td>fractal dimension error</td>\n",
              "      <td>2.069994</td>\n",
              "    </tr>\n",
              "    <tr>\n",
              "      <th>9</th>\n",
              "      <td>mean fractal dimension</td>\n",
              "      <td>3.311710</td>\n",
              "    </tr>\n",
              "  </tbody>\n",
              "</table>\n",
              "</div>\n",
              "      <button class=\"colab-df-convert\" onclick=\"convertToInteractive('df-a1af1ba1-4698-4a98-8ff8-d9e8ac211020')\"\n",
              "              title=\"Convert this dataframe to an interactive table.\"\n",
              "              style=\"display:none;\">\n",
              "        \n",
              "  <svg xmlns=\"http://www.w3.org/2000/svg\" height=\"24px\"viewBox=\"0 0 24 24\"\n",
              "       width=\"24px\">\n",
              "    <path d=\"M0 0h24v24H0V0z\" fill=\"none\"/>\n",
              "    <path d=\"M18.56 5.44l.94 2.06.94-2.06 2.06-.94-2.06-.94-.94-2.06-.94 2.06-2.06.94zm-11 1L8.5 8.5l.94-2.06 2.06-.94-2.06-.94L8.5 2.5l-.94 2.06-2.06.94zm10 10l.94 2.06.94-2.06 2.06-.94-2.06-.94-.94-2.06-.94 2.06-2.06.94z\"/><path d=\"M17.41 7.96l-1.37-1.37c-.4-.4-.92-.59-1.43-.59-.52 0-1.04.2-1.43.59L10.3 9.45l-7.72 7.72c-.78.78-.78 2.05 0 2.83L4 21.41c.39.39.9.59 1.41.59.51 0 1.02-.2 1.41-.59l7.78-7.78 2.81-2.81c.8-.78.8-2.07 0-2.86zM5.41 20L4 18.59l7.72-7.72 1.47 1.35L5.41 20z\"/>\n",
              "  </svg>\n",
              "      </button>\n",
              "      \n",
              "  <style>\n",
              "    .colab-df-container {\n",
              "      display:flex;\n",
              "      flex-wrap:wrap;\n",
              "      gap: 12px;\n",
              "    }\n",
              "\n",
              "    .colab-df-convert {\n",
              "      background-color: #E8F0FE;\n",
              "      border: none;\n",
              "      border-radius: 50%;\n",
              "      cursor: pointer;\n",
              "      display: none;\n",
              "      fill: #1967D2;\n",
              "      height: 32px;\n",
              "      padding: 0 0 0 0;\n",
              "      width: 32px;\n",
              "    }\n",
              "\n",
              "    .colab-df-convert:hover {\n",
              "      background-color: #E2EBFA;\n",
              "      box-shadow: 0px 1px 2px rgba(60, 64, 67, 0.3), 0px 1px 3px 1px rgba(60, 64, 67, 0.15);\n",
              "      fill: #174EA6;\n",
              "    }\n",
              "\n",
              "    [theme=dark] .colab-df-convert {\n",
              "      background-color: #3B4455;\n",
              "      fill: #D2E3FC;\n",
              "    }\n",
              "\n",
              "    [theme=dark] .colab-df-convert:hover {\n",
              "      background-color: #434B5C;\n",
              "      box-shadow: 0px 1px 3px 1px rgba(0, 0, 0, 0.15);\n",
              "      filter: drop-shadow(0px 1px 2px rgba(0, 0, 0, 0.3));\n",
              "      fill: #FFFFFF;\n",
              "    }\n",
              "  </style>\n",
              "\n",
              "      <script>\n",
              "        const buttonEl =\n",
              "          document.querySelector('#df-a1af1ba1-4698-4a98-8ff8-d9e8ac211020 button.colab-df-convert');\n",
              "        buttonEl.style.display =\n",
              "          google.colab.kernel.accessAllowed ? 'block' : 'none';\n",
              "\n",
              "        async function convertToInteractive(key) {\n",
              "          const element = document.querySelector('#df-a1af1ba1-4698-4a98-8ff8-d9e8ac211020');\n",
              "          const dataTable =\n",
              "            await google.colab.kernel.invokeFunction('convertToInteractive',\n",
              "                                                     [key], {});\n",
              "          if (!dataTable) return;\n",
              "\n",
              "          const docLinkHtml = 'Like what you see? Visit the ' +\n",
              "            '<a target=\"_blank\" href=https://colab.research.google.com/notebooks/data_table.ipynb>data table notebook</a>'\n",
              "            + ' to learn more about interactive tables.';\n",
              "          element.innerHTML = '';\n",
              "          dataTable['output_type'] = 'display_data';\n",
              "          await google.colab.output.renderOutput(dataTable, element);\n",
              "          const docLink = document.createElement('div');\n",
              "          docLink.innerHTML = docLinkHtml;\n",
              "          element.appendChild(docLink);\n",
              "        }\n",
              "      </script>\n",
              "    </div>\n",
              "  </div>\n",
              "  "
            ]
          },
          "metadata": {},
          "execution_count": 14
        }
      ]
    },
    {
      "cell_type": "markdown",
      "metadata": {
        "id": "dKyOCm1n5C_n"
      },
      "source": [
        "## Actividad 1\n",
        "\n",
        "Los resultados son considerablemente buenos, sin embargo. ¿Se puede añadir más perceptrones?¿Se mejora los resultados?\n",
        "\n",
        "A continuación trabajaremos con un clasificador de multiples capas de perceptrones (*Multi-layer Perceptron classifier* o [MLP](https://scikit-learn.org/stable/modules/generated/sklearn.neural_network.MLPClassifier.html)), el cual nos permitirá adaptar la cantidad de perceptrones, capas, función de activación y otros parámetros.\n",
        "\n",
        "Algo interesante: [MLP Tensorflow Playground](https://playground.tensorflow.org/#activation=tanh&batchSize=10&dataset=xor&regDataset=reg-plane&learningRate=0.03&regularizationRate=0&noise=0&networkShape=1&seed=0.38047&showTestData=false&discretize=false&percTrainData=50&x=true&y=true&xTimesY=false&xSquared=false&ySquared=false&cosX=false&sinX=false&cosY=false&sinY=false&collectStats=false&problem=classification&initZero=false&hideText=false)\n",
        "\n"
      ]
    },
    {
      "cell_type": "code",
      "source": [
        "X_train.shape"
      ],
      "metadata": {
        "id": "CZUDxuyoUwx9",
        "outputId": "650523da-6ee4-4f66-d65d-01a05f0e9904",
        "colab": {
          "base_uri": "https://localhost:8080/"
        }
      },
      "execution_count": 24,
      "outputs": [
        {
          "output_type": "execute_result",
          "data": {
            "text/plain": [
              "(381, 30)"
            ]
          },
          "metadata": {},
          "execution_count": 24
        }
      ]
    },
    {
      "cell_type": "code",
      "metadata": {
        "id": "_4WT8O7549Mb",
        "outputId": "87b0c8c8-ecee-4c35-949f-213a7baf3e35",
        "colab": {
          "base_uri": "https://localhost:8080/",
          "height": 75
        }
      },
      "source": [
        "# TODO: Código para perceptrones múltiples para clasificar.\n",
        "# HINT: Documentación del perceptrón multicapa https://scikit-learn.org/stable/modules/generated/sklearn.neural_network.MLPClassifier.html\n",
        "mlp = sklearn.neural_network.MLPClassifier(solver='lbfgs', random_state=1)\n",
        "\n",
        "mlp.fit(X_train, Y_train)"
      ],
      "execution_count": 83,
      "outputs": [
        {
          "output_type": "execute_result",
          "data": {
            "text/plain": [
              "MLPClassifier(random_state=1, solver='lbfgs')"
            ],
            "text/html": [
              "<style>#sk-container-id-12 {color: black;background-color: white;}#sk-container-id-12 pre{padding: 0;}#sk-container-id-12 div.sk-toggleable {background-color: white;}#sk-container-id-12 label.sk-toggleable__label {cursor: pointer;display: block;width: 100%;margin-bottom: 0;padding: 0.3em;box-sizing: border-box;text-align: center;}#sk-container-id-12 label.sk-toggleable__label-arrow:before {content: \"▸\";float: left;margin-right: 0.25em;color: #696969;}#sk-container-id-12 label.sk-toggleable__label-arrow:hover:before {color: black;}#sk-container-id-12 div.sk-estimator:hover label.sk-toggleable__label-arrow:before {color: black;}#sk-container-id-12 div.sk-toggleable__content {max-height: 0;max-width: 0;overflow: hidden;text-align: left;background-color: #f0f8ff;}#sk-container-id-12 div.sk-toggleable__content pre {margin: 0.2em;color: black;border-radius: 0.25em;background-color: #f0f8ff;}#sk-container-id-12 input.sk-toggleable__control:checked~div.sk-toggleable__content {max-height: 200px;max-width: 100%;overflow: auto;}#sk-container-id-12 input.sk-toggleable__control:checked~label.sk-toggleable__label-arrow:before {content: \"▾\";}#sk-container-id-12 div.sk-estimator input.sk-toggleable__control:checked~label.sk-toggleable__label {background-color: #d4ebff;}#sk-container-id-12 div.sk-label input.sk-toggleable__control:checked~label.sk-toggleable__label {background-color: #d4ebff;}#sk-container-id-12 input.sk-hidden--visually {border: 0;clip: rect(1px 1px 1px 1px);clip: rect(1px, 1px, 1px, 1px);height: 1px;margin: -1px;overflow: hidden;padding: 0;position: absolute;width: 1px;}#sk-container-id-12 div.sk-estimator {font-family: monospace;background-color: #f0f8ff;border: 1px dotted black;border-radius: 0.25em;box-sizing: border-box;margin-bottom: 0.5em;}#sk-container-id-12 div.sk-estimator:hover {background-color: #d4ebff;}#sk-container-id-12 div.sk-parallel-item::after {content: \"\";width: 100%;border-bottom: 1px solid gray;flex-grow: 1;}#sk-container-id-12 div.sk-label:hover label.sk-toggleable__label {background-color: #d4ebff;}#sk-container-id-12 div.sk-serial::before {content: \"\";position: absolute;border-left: 1px solid gray;box-sizing: border-box;top: 0;bottom: 0;left: 50%;z-index: 0;}#sk-container-id-12 div.sk-serial {display: flex;flex-direction: column;align-items: center;background-color: white;padding-right: 0.2em;padding-left: 0.2em;position: relative;}#sk-container-id-12 div.sk-item {position: relative;z-index: 1;}#sk-container-id-12 div.sk-parallel {display: flex;align-items: stretch;justify-content: center;background-color: white;position: relative;}#sk-container-id-12 div.sk-item::before, #sk-container-id-12 div.sk-parallel-item::before {content: \"\";position: absolute;border-left: 1px solid gray;box-sizing: border-box;top: 0;bottom: 0;left: 50%;z-index: -1;}#sk-container-id-12 div.sk-parallel-item {display: flex;flex-direction: column;z-index: 1;position: relative;background-color: white;}#sk-container-id-12 div.sk-parallel-item:first-child::after {align-self: flex-end;width: 50%;}#sk-container-id-12 div.sk-parallel-item:last-child::after {align-self: flex-start;width: 50%;}#sk-container-id-12 div.sk-parallel-item:only-child::after {width: 0;}#sk-container-id-12 div.sk-dashed-wrapped {border: 1px dashed gray;margin: 0 0.4em 0.5em 0.4em;box-sizing: border-box;padding-bottom: 0.4em;background-color: white;}#sk-container-id-12 div.sk-label label {font-family: monospace;font-weight: bold;display: inline-block;line-height: 1.2em;}#sk-container-id-12 div.sk-label-container {text-align: center;}#sk-container-id-12 div.sk-container {/* jupyter's `normalize.less` sets `[hidden] { display: none; }` but bootstrap.min.css set `[hidden] { display: none !important; }` so we also need the `!important` here to be able to override the default hidden behavior on the sphinx rendered scikit-learn.org. See: https://github.com/scikit-learn/scikit-learn/issues/21755 */display: inline-block !important;position: relative;}#sk-container-id-12 div.sk-text-repr-fallback {display: none;}</style><div id=\"sk-container-id-12\" class=\"sk-top-container\"><div class=\"sk-text-repr-fallback\"><pre>MLPClassifier(random_state=1, solver=&#x27;lbfgs&#x27;)</pre><b>In a Jupyter environment, please rerun this cell to show the HTML representation or trust the notebook. <br />On GitHub, the HTML representation is unable to render, please try loading this page with nbviewer.org.</b></div><div class=\"sk-container\" hidden><div class=\"sk-item\"><div class=\"sk-estimator sk-toggleable\"><input class=\"sk-toggleable__control sk-hidden--visually\" id=\"sk-estimator-id-12\" type=\"checkbox\" checked><label for=\"sk-estimator-id-12\" class=\"sk-toggleable__label sk-toggleable__label-arrow\">MLPClassifier</label><div class=\"sk-toggleable__content\"><pre>MLPClassifier(random_state=1, solver=&#x27;lbfgs&#x27;)</pre></div></div></div></div></div>"
            ]
          },
          "metadata": {},
          "execution_count": 83
        }
      ]
    },
    {
      "cell_type": "markdown",
      "source": [
        "Y aquí predecimos y mostramos las métricas de clasificación\n"
      ],
      "metadata": {
        "id": "N0jvgKMpTcG1"
      }
    },
    {
      "cell_type": "code",
      "source": [
        "mlpPredictions = mlp.predict(X_test)\n",
        "\n",
        "print(sklearn.metrics.classification_report(\n",
        "    Y_test,\n",
        "    mlpPredictions\n",
        "))"
      ],
      "metadata": {
        "id": "rMZbPbl6Vh87",
        "outputId": "b8cd423f-2114-4113-88c7-0105ad0f390b",
        "colab": {
          "base_uri": "https://localhost:8080/"
        }
      },
      "execution_count": 85,
      "outputs": [
        {
          "output_type": "stream",
          "name": "stdout",
          "text": [
            "              precision    recall  f1-score   support\n",
            "\n",
            "           0       0.94      0.93      0.93        67\n",
            "           1       0.96      0.97      0.96       121\n",
            "\n",
            "    accuracy                           0.95       188\n",
            "   macro avg       0.95      0.95      0.95       188\n",
            "weighted avg       0.95      0.95      0.95       188\n",
            "\n"
          ]
        }
      ]
    },
    {
      "cell_type": "markdown",
      "source": [
        "Vemos la matriz de confusión"
      ],
      "metadata": {
        "id": "rDHFBFsyT4Tc"
      }
    },
    {
      "cell_type": "code",
      "source": [
        "cm = sklearn.metrics.confusion_matrix(Y_test, mlpPredictions)\n",
        "disp = sklearn.metrics.ConfusionMatrixDisplay(confusion_matrix=cm)\n",
        "disp.plot()\n",
        "plt.show()"
      ],
      "metadata": {
        "id": "q12uu6pKVmrP",
        "outputId": "ee004e30-df07-402a-b56a-34ca0bb1369a",
        "colab": {
          "base_uri": "https://localhost:8080/",
          "height": 449
        }
      },
      "execution_count": 86,
      "outputs": [
        {
          "output_type": "display_data",
          "data": {
            "text/plain": [
              "<Figure size 640x480 with 2 Axes>"
            ],
            "image/png": "[encoded data removed]"
          },
          "metadata": {}
        }
      ]
    },
    {
      "cell_type": "markdown",
      "metadata": {
        "id": "LdN_BxAw6sgm"
      },
      "source": [
        "## Support Vector Machines"
      ]
    },
    {
      "cell_type": "markdown",
      "metadata": {
        "id": "UWVF370F7zW6"
      },
      "source": [
        "Ajustamos un modelo de SVM lineal sobre nuestros datos `checkerboard`"
      ]
    },
    {
      "cell_type": "code",
      "metadata": {
        "colab": {
          "base_uri": "https://localhost:8080/"
        },
        "id": "pPjwDtcx6rTP",
        "outputId": "f51c218d-7f30-4219-96f4-af69cc8bbfe8"
      },
      "source": [
        "# Instanciamos nuestra svm lineal\n",
        "svm = sklearn.svm.SVC(\n",
        "    kernel=\"linear\" # utlizamos un kernel lineal\n",
        "    ) \n",
        "\n",
        "# Ajustamos el perceptrón con los datos de entrenamiento\n",
        "svm.fit(\n",
        "    checkerboard_features_train,\n",
        "    checkerboard_label_train\n",
        ") \n",
        "\n",
        "#Métricas de evaluación\n",
        "print(sklearn.metrics.classification_report(\n",
        "    checkerboard_label_test,\n",
        "    svm.predict(checkerboard_features_test)\n",
        "))"
      ],
      "execution_count": 49,
      "outputs": [
        {
          "output_type": "stream",
          "name": "stdout",
          "text": [
            "              precision    recall  f1-score   support\n",
            "\n",
            "           0       1.00      0.44      0.62        18\n",
            "           1       0.60      1.00      0.75        15\n",
            "\n",
            "    accuracy                           0.70        33\n",
            "   macro avg       0.80      0.72      0.68        33\n",
            "weighted avg       0.82      0.70      0.68        33\n",
            "\n"
          ]
        }
      ]
    },
    {
      "cell_type": "markdown",
      "metadata": {
        "id": "W5aXfA-M8Dkm"
      },
      "source": [
        "Se puede observar que el rendimiento no es muy bueno."
      ]
    },
    {
      "cell_type": "code",
      "metadata": {
        "id": "l_UapDy37Jwr"
      },
      "source": [
        "# Funciones para mostrar los umbrales de SVM sobre nuestros datos\n",
        "\n",
        "def make_meshgrid(x, y, h=.02):\n",
        "    x_min, x_max = x.min() - 1, x.max() + 1\n",
        "    y_min, y_max = y.min() - 1, y.max() + 1\n",
        "    xx, yy = np.meshgrid(np.arange(x_min, x_max, h), np.arange(y_min, y_max, h))\n",
        "    return xx, yy\n",
        "\n",
        "def plot_contours(ax, clf, xx, yy, **params):\n",
        "    Z = clf.predict(np.c_[xx.ravel(), yy.ravel()])\n",
        "    Z = Z.reshape(xx.shape)\n",
        "    out = ax.contourf(xx, yy, Z, **params)\n",
        "    return out"
      ],
      "execution_count": 50,
      "outputs": []
    },
    {
      "cell_type": "markdown",
      "metadata": {
        "id": "lgLE42Yi8Q39"
      },
      "source": [
        "Visualizamos cómo se ve el umbral de clasificación del SVM lineal."
      ]
    },
    {
      "cell_type": "code",
      "metadata": {
        "colab": {
          "base_uri": "https://localhost:8080/",
          "height": 466
        },
        "id": "_f3p8uK37Nyd",
        "outputId": "a9f2a2f3-ff5b-446d-8f76-e5d98bc04847"
      },
      "source": [
        "fig, ax = plt.subplots()\n",
        "X0, X1 = checkerboard_features_test.x1, checkerboard_features_test.x2\n",
        "xx, yy = make_meshgrid(X0, X1)\n",
        "plot_contours(ax, svm, xx, yy, cmap=plt.cm.coolwarm, alpha=0.8)\n",
        "ax.scatter(X0, X1, c=checkerboard_label_test, cmap=plt.cm.coolwarm, s=20, edgecolors='k')\n",
        "plt.show()"
      ],
      "execution_count": 51,
      "outputs": [
        {
          "output_type": "stream",
          "name": "stderr",
          "text": [
            "/usr/local/lib/python3.10/dist-packages/sklearn/base.py:439: UserWarning: X does not have valid feature names, but SVC was fitted with feature names\n",
            "  warnings.warn(\n"
          ]
        },
        {
          "output_type": "display_data",
          "data": {
            "text/plain": [
              "<Figure size 640x480 with 1 Axes>"
            ],
            "image/png": "[encoded data removed]"
          },
          "metadata": {}
        }
      ]
    },
    {
      "cell_type": "markdown",
      "metadata": {
        "id": "-Q7dSeCI8VJO"
      },
      "source": [
        "## Actividad 2\n",
        "\n",
        "Utilice un kernel no lineal para entrenar otro modelo de SVM, calcule las métricas de clasificación asociadas a este nuevo modelo y visualice los umbrales de clasificación.\n",
        "\n",
        "Hint: [LINK](https://scikit-learn.org/stable/modules/generated/sklearn.svm.SVC.html)"
      ]
    },
    {
      "cell_type": "code",
      "metadata": {
        "id": "efVqQdcs7Vkb",
        "outputId": "d863bf00-0023-4b9b-9191-823b30f99002",
        "colab": {
          "base_uri": "https://localhost:8080/"
        }
      },
      "source": [
        "# Instanciamos nuestra svm lineal\n",
        "svm = sklearn.svm.SVC(\n",
        "    kernel=\"rbf\"\n",
        "    ) \n",
        "\n",
        "# Ajustamos el SVM con los datos de entrenamiento\n",
        "svm.fit(\n",
        "    checkerboard_features_train,\n",
        "    checkerboard_label_train\n",
        ") \n",
        "\n",
        "#Métricas de evaluación\n",
        "print(sklearn.metrics.classification_report(\n",
        "    checkerboard_label_test,\n",
        "    svm.predict(checkerboard_features_test)\n",
        "))"
      ],
      "execution_count": 61,
      "outputs": [
        {
          "output_type": "stream",
          "name": "stdout",
          "text": [
            "              precision    recall  f1-score   support\n",
            "\n",
            "           0       1.00      1.00      1.00        18\n",
            "           1       1.00      1.00      1.00        15\n",
            "\n",
            "    accuracy                           1.00        33\n",
            "   macro avg       1.00      1.00      1.00        33\n",
            "weighted avg       1.00      1.00      1.00        33\n",
            "\n"
          ]
        },
        {
          "output_type": "execute_result",
          "data": {
            "text/plain": [
              "(67,)"
            ]
          },
          "metadata": {},
          "execution_count": 61
        }
      ]
    },
    {
      "cell_type": "code",
      "source": [
        "fig, ax = plt.subplots()\n",
        "X0, X1 = checkerboard_features_test.x1, checkerboard_features_test.x2\n",
        "xx, yy = make_meshgrid(X0, X1)\n",
        "plot_contours(ax, svm, xx, yy, cmap=plt.cm.coolwarm, alpha=0.8)\n",
        "ax.scatter(X0, X1, c=checkerboard_label_test, cmap=plt.cm.coolwarm, s=20, edgecolors='k')\n",
        "plt.show()"
      ],
      "metadata": {
        "id": "OsdkgBnVW5BI",
        "outputId": "ea6a4e15-61a7-436c-8cac-7e654a08837d",
        "colab": {
          "base_uri": "https://localhost:8080/",
          "height": 466
        }
      },
      "execution_count": 57,
      "outputs": [
        {
          "output_type": "stream",
          "name": "stderr",
          "text": [
            "/usr/local/lib/python3.10/dist-packages/sklearn/base.py:439: UserWarning: X does not have valid feature names, but SVC was fitted with feature names\n",
            "  warnings.warn(\n"
          ]
        },
        {
          "output_type": "display_data",
          "data": {
            "text/plain": [
              "<Figure size 640x480 with 1 Axes>"
            ],
            "image/png": "[encoded data removed]"
          },
          "metadata": {}
        }
      ]
    },
    {
      "cell_type": "markdown",
      "metadata": {
        "id": "leVaUBCy82Wd"
      },
      "source": [
        "# Actividad 3\n",
        "\n",
        "Típicamente para comparar modelos se utiliza la validación cruzada para poder disminuir el sesgo de selección de datos. Utilice la función `sklearn.model_selection.cross_val_score()` para obtener el rendimiento promedio (debe seleccionar la métrica a comparar) de MLP y SVM sobre el conjunto inicialde datos de cáncer de mama y evalúe qué método se desempeña mejor.\n",
        "\n",
        "\n",
        "<img src='https://i0.wp.com/sqlrelease.com/wp-content/uploads/2021/07/K-fold-cross-validation-1.jpg?ssl=1' class=\"bg-primary mb-1\" align=\"right\" width=\"700\"/>"
      ]
    },
    {
      "cell_type": "code",
      "source": [
        "svm = sklearn.svm.SVC(\n",
        "    kernel=\"rbf\"\n",
        ") \n",
        "\n",
        "mlp = sklearn.neural_network.MLPClassifier()\n",
        "\n",
        "scoring = 'precision'\n",
        "seed = 7\n",
        "kfold = sklearn.model_selection.KFold(n_splits=10, shuffle=True, random_state=seed)\n",
        "\n",
        "cv_results_mlp = sklearn.model_selection.cross_val_score(mlp, data, target, cv=kfold, scoring=scoring)\n",
        "cv_results_svm = sklearn.model_selection.cross_val_score(svm, data, target)\n",
        "\n",
        "\n",
        "print(cv_results_mlp, cv_results_svm)"
      ],
      "metadata": {
        "id": "q0x5C33sj77F",
        "outputId": "52ee59e6-fc92-470a-ce2d-d8fea007f2cc",
        "colab": {
          "base_uri": "https://localhost:8080/"
        }
      },
      "execution_count": 87,
      "outputs": [
        {
          "output_type": "stream",
          "name": "stderr",
          "text": [
            "/usr/local/lib/python3.10/dist-packages/sklearn/neural_network/_multilayer_perceptron.py:686: ConvergenceWarning: Stochastic Optimizer: Maximum iterations (200) reached and the optimization hasn't converged yet.\n",
            "  warnings.warn(\n",
            "/usr/local/lib/python3.10/dist-packages/sklearn/neural_network/_multilayer_perceptron.py:686: ConvergenceWarning: Stochastic Optimizer: Maximum iterations (200) reached and the optimization hasn't converged yet.\n",
            "  warnings.warn(\n",
            "/usr/local/lib/python3.10/dist-packages/sklearn/neural_network/_multilayer_perceptron.py:686: ConvergenceWarning: Stochastic Optimizer: Maximum iterations (200) reached and the optimization hasn't converged yet.\n",
            "  warnings.warn(\n",
            "/usr/local/lib/python3.10/dist-packages/sklearn/neural_network/_multilayer_perceptron.py:686: ConvergenceWarning: Stochastic Optimizer: Maximum iterations (200) reached and the optimization hasn't converged yet.\n",
            "  warnings.warn(\n",
            "/usr/local/lib/python3.10/dist-packages/sklearn/neural_network/_multilayer_perceptron.py:686: ConvergenceWarning: Stochastic Optimizer: Maximum iterations (200) reached and the optimization hasn't converged yet.\n",
            "  warnings.warn(\n",
            "/usr/local/lib/python3.10/dist-packages/sklearn/neural_network/_multilayer_perceptron.py:686: ConvergenceWarning: Stochastic Optimizer: Maximum iterations (200) reached and the optimization hasn't converged yet.\n",
            "  warnings.warn(\n",
            "/usr/local/lib/python3.10/dist-packages/sklearn/neural_network/_multilayer_perceptron.py:686: ConvergenceWarning: Stochastic Optimizer: Maximum iterations (200) reached and the optimization hasn't converged yet.\n",
            "  warnings.warn(\n",
            "/usr/local/lib/python3.10/dist-packages/sklearn/neural_network/_multilayer_perceptron.py:686: ConvergenceWarning: Stochastic Optimizer: Maximum iterations (200) reached and the optimization hasn't converged yet.\n",
            "  warnings.warn(\n",
            "/usr/local/lib/python3.10/dist-packages/sklearn/neural_network/_multilayer_perceptron.py:686: ConvergenceWarning: Stochastic Optimizer: Maximum iterations (200) reached and the optimization hasn't converged yet.\n",
            "  warnings.warn(\n"
          ]
        },
        {
          "output_type": "stream",
          "name": "stdout",
          "text": [
            "[1.         0.95238095 0.95348837 1.         0.97142857 0.94285714\n",
            " 1.         0.94444444 0.9375     1.        ] [0.96491228 0.96491228 0.99122807 0.96491228 0.98230088]\n"
          ]
        },
        {
          "output_type": "stream",
          "name": "stderr",
          "text": [
            "/usr/local/lib/python3.10/dist-packages/sklearn/neural_network/_multilayer_perceptron.py:686: ConvergenceWarning: Stochastic Optimizer: Maximum iterations (200) reached and the optimization hasn't converged yet.\n",
            "  warnings.warn(\n"
          ]
        }
      ]
    },
    {
      "cell_type": "code",
      "source": [
        "fig = plt.figure()\n",
        "fig.suptitle('Algorithm Comparison')\n",
        "ax = fig.add_subplot(111)\n",
        "\n",
        "results = []\n",
        "\n",
        "results.append(cv_results_mlp)\n",
        "results.append(cv_results_svm)\n",
        "\n",
        "plt.boxplot(results)\n",
        "\n",
        "names = ['MLP', 'SVM']\n",
        "\n",
        "ax.set_xticklabels(names)\n",
        "plt.show()"
      ],
      "metadata": {
        "id": "L3MiCy7QaYo8",
        "outputId": "b84d47bc-dd6f-4fc0-a750-ef025677f575",
        "colab": {
          "base_uri": "https://localhost:8080/",
          "height": 478
        }
      },
      "execution_count": 88,
      "outputs": [
        {
          "output_type": "display_data",
          "data": {
            "text/plain": [
              "<Figure size 640x480 with 1 Axes>"
            ],
            "image/png": "[encoded data removed]"
          },
          "metadata": {}
        }
      ]
    }
  ]
}